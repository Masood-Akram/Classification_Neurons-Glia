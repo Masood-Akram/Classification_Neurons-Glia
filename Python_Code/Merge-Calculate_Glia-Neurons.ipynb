{
    "cells": [
        {
            "cell_type": "code",
            "execution_count": 2,
            "metadata": {},
            "outputs": [],
            "source": [
                "# Importing pandas\n",
                "import pandas as pd"
            ]
        },
        {
            "cell_type": "code",
            "execution_count": 3,
            "metadata": {},
            "outputs": [
                {
                    "data": {
                        "text/plain": [
                            "(22792, 100)"
                        ]
                    },
                    "execution_count": 3,
                    "metadata": {},
                    "output_type": "execute_result"
                }
            ],
            "source": [
                "# Merging 1 branch files of neurons and glia\n",
                "Glia_1 = pd.read_csv(\"Glia_Branch-1.csv\", header=None) \n",
                "Neuron_1 = pd.read_csv(\"Neuron_Branch-1.csv\", header=None) \n",
                "\n",
                "Branch_1 = pd.concat([Glia_1,Neuron_1])\n",
                "Branch_1.shape\n",
                "\n",
                "# Taking the average of 100 samples (column wise) of the whole dataset\n",
                "Mean1_1 = Branch_1.mean(axis=0)\n",
                "\n",
                "# Avarage of 100 columns \n",
                "Mean_1 = Mean1_1.mean(axis=0)\n",
                "# 95 percentile (Max) of 100 columns \n",
                "Max_1= Mean1_1.quantile(0.95)\n",
                "# 5 percentile (Min) of 100 columns \n",
                "Min_1= Mean1_1.quantile(0.05)\n",
                "\n",
                "print(Mean_1)\n",
                "print(Max_1)\n",
                "print(Min_1)"
            ]
        },
        {
            "cell_type": "code",
            "execution_count": 16,
            "metadata": {},
            "outputs": [
                {
                    "data": {
                        "text/plain": [
                            "(22792, 100)"
                        ]
                    },
                    "execution_count": 16,
                    "metadata": {},
                    "output_type": "execute_result"
                }
            ],
            "source": [
                "# Merging 2 branch files of neurons and glia\n",
                "Glia_2 = pd.read_csv(\"Glia_Branch-2.csv\", header=None) \n",
                "Neuron_2 = pd.read_csv(\"Neuron_Branch-2.csv\", header=None) \n",
                "\n",
                "Branch_2 = pd.concat([Glia_2,Neuron_2])\n",
                "Branch_2.shape\n",
                "\n",
                "# Taking the average of 100 samples (column wise) of the whole dataset\n",
                "Mean2_1 = Branch_2.mean(axis=0)\n",
                "\n",
                "# Avarage of 100 columns \n",
                "Mean_2 = Mean2_1.mean(axis=0)\n",
                "# 95 percentile (Max) of 100 columns \n",
                "Max_2= Mean2_1.quantile(0.95)\n",
                "# 5 percentile (Min) of 100 columns \n",
                "Min_2= Mean2_1.quantile(0.05)\n",
                "\n",
                "print(Mean_2)\n",
                "print(Max_2)\n",
                "print(Min_2)"
            ]
        },
        {
            "cell_type": "code",
            "execution_count": null,
            "metadata": {},
            "outputs": [],
            "source": [
                "# Merging 3 branch files of neurons and glia\n",
                "Glia_3 = pd.read_csv(\"Glia_Branch-3.csv\", header=None) \n",
                "Neuron_3 = pd.read_csv(\"Neuron_Branch-3.csv\", header=None) \n",
                "\n",
                "Branch_3 = pd.concat([Glia_3,Neuron_3])\n",
                "Branch_3.shape\n",
                "\n",
                "# Taking the average of 100 samples (column wise) of the whole dataset\n",
                "Mean3_1 = Branch_3.mean(axis=0)\n",
                "\n",
                "# Avarage of 100 columns \n",
                "Mean_3 = Mean3_1.mean(axis=0)\n",
                "# 95 percentile (Max) of 100 columns \n",
                "Max_3= Mean3_1.quantile(0.95)\n",
                "# 5 percentile (Min) of 100 columns \n",
                "Min_3= Mean3_1.quantile(0.05)\n",
                "\n",
                "print(Mean_3)\n",
                "print(Max_3)\n",
                "print(Min_3)"
            ]
        },
        {
            "cell_type": "code",
            "execution_count": null,
            "metadata": {},
            "outputs": [],
            "source": [
                "# Merging 4 branch files of neurons and glia\n",
                "Glia_4 = pd.read_csv(\"Glia_Branch-4.csv\", header=None) \n",
                "Neuron_4 = pd.read_csv(\"Neuron_Branch-4.csv\", header=None) \n",
                "\n",
                "Branch_4 = pd.concat([Glia_4,Neuron_4])\n",
                "Branch_4.shape\n",
                "\n",
                "# Taking the average of 100 samples (column wise) of the whole dataset\n",
                "Mean4_1 = Branch_4.mean(axis=0)\n",
                "\n",
                "# Avarage of 100 columns \n",
                "Mean_4 = Mean4_1.mean(axis=0)\n",
                "# 95 percentile (Max) of 100 columns \n",
                "Max_4= Mean4_1.quantile(0.95)\n",
                "# 5 percentile (Min) of 100 columns \n",
                "Min_4= Mean4_1.quantile(0.05)\n",
                "\n",
                "print(Mean_4)\n",
                "print(Max_4)\n",
                "print(Min_4)"
            ]
        },
        {
            "cell_type": "code",
            "execution_count": null,
            "metadata": {},
            "outputs": [],
            "source": [
                "# Merging 5 branch files of neurons and glia\n",
                "Glia_5 = pd.read_csv(\"Glia_Branch-5.csv\", header=None) \n",
                "Neuron_5 = pd.read_csv(\"Neuron_Branch-5.csv\", header=None) \n",
                "\n",
                "Branch_5 = pd.concat([Glia_5,Neuron_5])\n",
                "Branch_5.shape\n",
                "\n",
                "# Taking the average of 100 samples (column wise) of the whole dataset\n",
                "Mean5_1 = Branch_5.mean(axis=0)\n",
                "\n",
                "# Avarage of 100 columns \n",
                "Mean_5 = Mean5_1.mean(axis=0)\n",
                "# 95 percentile (Max) of 100 columns \n",
                "Max_5= Mean5_1.quantile(0.95)\n",
                "# 5 percentile (Min) of 100 columns \n",
                "Min_5= Mean5_1.quantile(0.05)\n",
                "\n",
                "print(Mean_5)\n",
                "print(Max_5)\n",
                "print(Min_5)"
            ]
        },
        {
            "cell_type": "code",
            "execution_count": null,
            "metadata": {},
            "outputs": [],
            "source": [
                "# Merging 10 branch files of neurons and glia\n",
                "Glia_10 = pd.read_csv(\"Glia_Branch-10.csv\", header=None) \n",
                "Neuron_10 = pd.read_csv(\"Neuron_Branch-10.csv\", header=None) \n",
                "\n",
                "Branch_10 = pd.concat([Glia_10,Neuron_10])\n",
                "Branch_10.shape\n",
                "\n",
                "# Taking the average of 100 samples (column wise) of the whole dataset\n",
                "Mean10_1 = Branch_10.mean(axis=0)\n",
                "\n",
                "# Avarage of 100 columns \n",
                "Mean_10 = Mean10_1.mean(axis=0)\n",
                "# 95 percentile (Max) of 100 columns \n",
                "Max_10= Mean10_1.quantile(0.95)\n",
                "# 5 percentile (Min) of 100 columns \n",
                "Min_10= Mean10_1.quantile(0.05)\n",
                "\n",
                "print(Mean_10)\n",
                "print(Max_10)\n",
                "print(Min_10)"
            ]
        },
        {
            "cell_type": "code",
            "execution_count": null,
            "metadata": {},
            "outputs": [],
            "source": [
                "# Merging 15 branch files of neurons and glia\n",
                "Glia_15 = pd.read_csv(\"Glia_Branch-15.csv\", header=None) \n",
                "Neuron_15 = pd.read_csv(\"Neuron_Branch-15.csv\", header=None) \n",
                "\n",
                "Branch_15 = pd.concat([Glia_15,Neuron_15])\n",
                "Branch_15.shape\n",
                "\n",
                "# Taking the average of 100 samples (column wise) of the whole dataset\n",
                "Mean15_1 = Branch_15.mean(axis=0)\n",
                "\n",
                "# Avarage of 100 columns \n",
                "Mean_15 = Mean15_1.mean(axis=0)\n",
                "# 95 percentile (Max) of 100 columns \n",
                "Max_15= Mean15_1.quantile(0.95)\n",
                "# 5 percentile (Min) of 100 columns \n",
                "Min_15= Mean15_1.quantile(0.05)\n",
                "\n",
                "print(Mean_15)\n",
                "print(Max_15)\n",
                "print(Min_15)"
            ]
        },
        {
            "cell_type": "code",
            "execution_count": 18,
            "metadata": {},
            "outputs": [],
            "source": [
                "# Merging averages and percentiles of all the branches in one dataframe\n",
                "Final_Output = pd.DataFrame({'Mean': [Mean_1, Mean_2, Mean_3, Mean_4, Mean_5, Mean_10, Mean_15],\n",
                "                            'Max': [Max_1, Max_2, Max_3, Max_4, Max_5, Max_10, Max_15],\n",
                "                            'Min': [Min_1, Min_2, Min_3, Min_4, Min_5, Min_10, Min_15]})"
            ]
        },
        {
            "cell_type": "code",
            "execution_count": 19,
            "metadata": {},
            "outputs": [
                {
                    "data": {
                        "text/html": [
                            "<div>\n",
                            "<style scoped>\n",
                            "    .dataframe tbody tr th:only-of-type {\n",
                            "        vertical-align: middle;\n",
                            "    }\n",
                            "\n",
                            "    .dataframe tbody tr th {\n",
                            "        vertical-align: top;\n",
                            "    }\n",
                            "\n",
                            "    .dataframe thead th {\n",
                            "        text-align: right;\n",
                            "    }\n",
                            "</style>\n",
                            "<table border=\"1\" class=\"dataframe\">\n",
                            "  <thead>\n",
                            "    <tr style=\"text-align: right;\">\n",
                            "      <th></th>\n",
                            "      <th>Mean</th>\n",
                            "      <th>Max</th>\n",
                            "      <th>Min</th>\n",
                            "    </tr>\n",
                            "  </thead>\n",
                            "  <tbody>\n",
                            "    <tr>\n",
                            "      <th>0</th>\n",
                            "      <td>0.158904</td>\n",
                            "      <td>0.162693</td>\n",
                            "      <td>0.155923</td>\n",
                            "    </tr>\n",
                            "    <tr>\n",
                            "      <th>1</th>\n",
                            "      <td>0.158904</td>\n",
                            "      <td>0.162693</td>\n",
                            "      <td>0.155923</td>\n",
                            "    </tr>\n",
                            "  </tbody>\n",
                            "</table>\n",
                            "</div>"
                        ],
                        "text/plain": [
                            "       Mean       Max       Min\n",
                            "0  0.158904  0.162693  0.155923\n",
                            "1  0.158904  0.162693  0.155923"
                        ]
                    },
                    "execution_count": 19,
                    "metadata": {},
                    "output_type": "execute_result"
                }
            ],
            "source": [
                "# Reproducing the csv file of the dataframe with all the values of averages and percentiles\n",
                "Final_Output.to_csv('Branch_1-15_Final-Output.csv')"
            ]
        }
    ],
    "metadata": {
        "interpreter": {
            "hash": "c34bb5b1689b8950db59dc94243bb8077b9c19da8a746fb45867d0ba7134a0be"
        },
        "kernelspec": {
            "display_name": "Python 3.7.6 64-bit ('base': conda)",
            "name": "python3"
        },
        "language_info": {
            "codemirror_mode": {
                "name": "ipython",
                "version": 3
            },
            "file_extension": ".py",
            "mimetype": "text/x-python",
            "name": "python",
            "nbconvert_exporter": "python",
            "pygments_lexer": "ipython3",
            "version": "3.10.2"
        },
        "orig_nbformat": 4
    },
    "nbformat": 4,
    "nbformat_minor": 2
}
